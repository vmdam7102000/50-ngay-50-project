{
  "nbformat": 4,
  "nbformat_minor": 0,
  "metadata": {
    "colab": {
      "name": "main.ipynb",
      "provenance": []
    },
    "kernelspec": {
      "name": "python3",
      "display_name": "Python 3"
    },
    "language_info": {
      "name": "python"
    },
    "accelerator": "GPU"
  },
  "cells": [
    {
      "cell_type": "code",
      "metadata": {
        "id": "AgcMusdW_Pl_",
        "colab": {
          "base_uri": "https://localhost:8080/"
        },
        "outputId": "91476636-e25d-414c-cab7-81bd0e61a6e8"
      },
      "source": [
        "!nvidia-smi"
      ],
      "execution_count": 1,
      "outputs": [
        {
          "output_type": "stream",
          "name": "stdout",
          "text": [
            "Mon May 12 12:29:48 2025       \n",
            "+-----------------------------------------------------------------------------------------+\n",
            "| NVIDIA-SMI 550.54.15              Driver Version: 550.54.15      CUDA Version: 12.4     |\n",
            "|-----------------------------------------+------------------------+----------------------+\n",
            "| GPU  Name                 Persistence-M | Bus-Id          Disp.A | Volatile Uncorr. ECC |\n",
            "| Fan  Temp   Perf          Pwr:Usage/Cap |           Memory-Usage | GPU-Util  Compute M. |\n",
            "|                                         |                        |               MIG M. |\n",
            "|=========================================+========================+======================|\n",
            "|   0  Tesla T4                       Off |   00000000:00:04.0 Off |                    0 |\n",
            "| N/A   45C    P8              9W /   70W |       0MiB /  15360MiB |      0%      Default |\n",
            "|                                         |                        |                  N/A |\n",
            "+-----------------------------------------+------------------------+----------------------+\n",
            "                                                                                         \n",
            "+-----------------------------------------------------------------------------------------+\n",
            "| Processes:                                                                              |\n",
            "|  GPU   GI   CI        PID   Type   Process name                              GPU Memory |\n",
            "|        ID   ID                                                               Usage      |\n",
            "|=========================================================================================|\n",
            "|  No running processes found                                                             |\n",
            "+-----------------------------------------------------------------------------------------+\n"
          ]
        }
      ]
    },
    {
      "cell_type": "code",
      "metadata": {
        "id": "q_v5Q41u--8d",
        "colab": {
          "base_uri": "https://localhost:8080/"
        },
        "outputId": "0fdfac5b-bd01-4b0a-9181-d6bc18fcc562"
      },
      "source": [
        "from google.colab import drive\n",
        "drive.mount('/content/gdrive', force_remount=True)"
      ],
      "execution_count": 2,
      "outputs": [
        {
          "output_type": "stream",
          "name": "stdout",
          "text": [
            "Mounted at /content/gdrive\n"
          ]
        }
      ]
    },
    {
      "cell_type": "code",
      "metadata": {
        "colab": {
          "base_uri": "https://localhost:8080/"
        },
        "id": "2vGMsf0bP7yp",
        "outputId": "28e7035d-19ec-429c-aa04-aab8f37fe3cf"
      },
      "source": [
        "cd '/content/gdrive/My Drive/EXP/VisionTransformerHashing/'"
      ],
      "execution_count": 6,
      "outputs": [
        {
          "output_type": "stream",
          "name": "stdout",
          "text": [
            "/content/gdrive/My Drive/EXP/VisionTransformerHashing\n"
          ]
        }
      ]
    },
    {
      "cell_type": "code",
      "metadata": {
        "colab": {
          "base_uri": "https://localhost:8080/"
        },
        "id": "0C2xFEHQP4mL",
        "outputId": "806b3ad4-c1fc-4e56-cf3e-88a15c7fa25d"
      },
      "source": [
        "#!git clone https://github.com/NVIDIA/apex\n",
        "#%cd apex\n",
        "#!pip install -v --no-cache-dir ./\n",
        "!pip install ml_collections"
      ],
      "execution_count": 4,
      "outputs": [
        {
          "output_type": "stream",
          "name": "stdout",
          "text": [
            "Collecting ml_collections\n",
            "  Downloading ml_collections-1.1.0-py3-none-any.whl.metadata (22 kB)\n",
            "Requirement already satisfied: absl-py in /usr/local/lib/python3.11/dist-packages (from ml_collections) (1.4.0)\n",
            "Requirement already satisfied: PyYAML in /usr/local/lib/python3.11/dist-packages (from ml_collections) (6.0.2)\n",
            "Downloading ml_collections-1.1.0-py3-none-any.whl (76 kB)\n",
            "\u001b[?25l   \u001b[90m━━━━━━━━━━━━━━━━━━━━━━━━━━━━━━━━━━━━━━━━\u001b[0m \u001b[32m0.0/76.7 kB\u001b[0m \u001b[31m?\u001b[0m eta \u001b[36m-:--:--\u001b[0m\r\u001b[2K   \u001b[90m━━━━━━━━━━━━━━━━━━━━━━━━━━━━━━━━━━━━━━━━\u001b[0m \u001b[32m76.7/76.7 kB\u001b[0m \u001b[31m4.1 MB/s\u001b[0m eta \u001b[36m0:00:00\u001b[0m\n",
            "\u001b[?25hInstalling collected packages: ml_collections\n",
            "Successfully installed ml_collections-1.1.0\n"
          ]
        }
      ]
    },
    {
      "cell_type": "code",
      "metadata": {
        "id": "OQFnqXjt_P7C"
      },
      "source": [
        "#!wget https://storage.googleapis.com/vit_models/imagenet21k/ViT-B_16.npz\n",
        "#!wget https://storage.googleapis.com/vit_models/imagenet21k/ViT-B_32.npz"
      ],
      "execution_count": null,
      "outputs": []
    },
    {
      "cell_type": "code",
      "source": [
        "#!python DSH.py\n",
        "#!python HashNet.py\n",
        "#!python GreedyHash.py\n",
        "#!python IDHN.py\n",
        "!python CSQ.py\n",
        "#!python DPN.py\n",
        "\n",
        "#!python DSHcls.py\n",
        "#!python HashNetcls.py\n",
        "#!python GreedyHashcls.py\n",
        "#!python IDHNcls.py\n",
        "#!python CSQcls.py\n",
        "#!python DPNcls.py\n"
      ],
      "metadata": {
        "colab": {
          "base_uri": "https://localhost:8080/"
        },
        "id": "7AawCqv1TH_Y",
        "outputId": "f034a79a-ceb5-44e4-ba7d-352c4813cf7e"
      },
      "execution_count": null,
      "outputs": [
        {
          "output_type": "stream",
          "name": "stdout",
          "text": [
            "{'dataset': 'cifar10', 'net': <class 'TransformerModel.modeling.VisionTransformer'>, 'net_print': 'ViT-B_32', 'model_type': 'ViT-B_32', 'pretrained_dir': 'pretrainedVIT/ViT-B_32.npz', 'bit_list': [16], 'optimizer': {'type': <class 'torch.optim.adam.Adam'>, 'optim_params': {'lr': 1e-05}}, 'device': device(type='cuda'), 'save_path': 'Checkpoints_Results', 'epoch': 150, 'test_map': 30, 'batch_size': 32, 'resize_size': 256, 'crop_size': 224, 'info': 'CSQ', 'lambda': 0.0001, 'topK': -1, 'n_class': 10, 'data_path': './dataset/cifar10/', 'data': {'train_set': {'list_path': './data/cifar10/train.txt', 'batch_size': 32}, 'database': {'list_path': './data/cifar10/database.txt', 'batch_size': 32}, 'test': {'list_path': './data/cifar10/test.txt', 'batch_size': 32}}}\n",
            "100% 170M/170M [00:04<00:00, 41.4MB/s]\n"
          ]
        }
      ]
    },
    {
      "cell_type": "code",
      "source": [],
      "metadata": {
        "id": "cErLd6V8egdB"
      },
      "execution_count": null,
      "outputs": []
    }
  ]
}